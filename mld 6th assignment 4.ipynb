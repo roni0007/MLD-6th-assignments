{
 "cells": [
  {
   "cell_type": "markdown",
   "metadata": {},
   "source": [
    "# problem 1.1"
   ]
  },
  {
   "cell_type": "code",
   "execution_count": 2,
   "metadata": {},
   "outputs": [
    {
     "name": "stdout",
     "output_type": "stream",
     "text": [
      "3\n",
      "4\n",
      "5\n",
      "6.0\n"
     ]
    }
   ],
   "source": [
    "class sides_of_triangle:\n",
    "    def __init__(self,a,b,c):\n",
    "        self.a= a\n",
    "        self.b= b\n",
    "        self.c= c\n",
    "class area_of_triangle(sides_of_triangle):\n",
    "    def __init__(self, *args):\n",
    "        super(area_of_triangle,self).__init__(*args)\n",
    "    def find_area(self):\n",
    "        s= (self.a + self.b +self.c)/2\n",
    "        area= (s*(s-self.a)*(s-self.b)*(s-self.c))**.5\n",
    "        return area\n",
    "a=int(input())\n",
    "b=int(input())\n",
    "c=int(input())\n",
    "abc=area_of_triangle(a,b,c)\n",
    "print(abc.find_area())\n"
   ]
  },
  {
   "cell_type": "markdown",
   "metadata": {},
   "source": [
    "# problem 1.2"
   ]
  },
  {
   "cell_type": "code",
   "execution_count": 3,
   "metadata": {},
   "outputs": [
    {
     "name": "stdout",
     "output_type": "stream",
     "text": [
      "['father', 'grandfather']\n"
     ]
    }
   ],
   "source": [
    "def filter_long_words(words,n):\n",
    "    m=[]\n",
    "    for i in words:\n",
    "        if len(i)>n:\n",
    "            m.append(i)\n",
    "    print(m)\n",
    "            \n",
    "words= [\"mom\", \"father\", \"grandfather\"]\n",
    "n= 3\n",
    "filter_long_words(words,n)"
   ]
  },
  {
   "cell_type": "markdown",
   "metadata": {},
   "source": [
    "# problem 2.1"
   ]
  },
  {
   "cell_type": "code",
   "execution_count": 4,
   "metadata": {},
   "outputs": [
    {
     "name": "stdout",
     "output_type": "stream",
     "text": [
      "[4, 3, 4]\n"
     ]
    }
   ],
   "source": [
    "def my_func(words):\n",
    "    m=[]\n",
    "    for i in words:\n",
    "        m.append(len(i))\n",
    "    print (m)\n",
    "x= ['roni','deb',\"good\"]\n",
    "my_func(x)"
   ]
  },
  {
   "cell_type": "markdown",
   "metadata": {},
   "source": [
    "# problem 2.2"
   ]
  },
  {
   "cell_type": "code",
   "execution_count": 5,
   "metadata": {},
   "outputs": [
    {
     "name": "stdout",
     "output_type": "stream",
     "text": [
      "True\n"
     ]
    }
   ],
   "source": [
    "def check_vowel(let):\n",
    "    \n",
    "    letter=let.lower()\n",
    "    if letter== str and len(letter)== 1 and letter== 'a' or letter== 'e' or letter== 'i' or letter== 'o' or letter== 'u':\n",
    "        return True\n",
    "    else:\n",
    "        return False\n",
    "letter='i'\n",
    "f=check_vowel(letter)\n",
    "print(f)"
   ]
  },
  {
   "cell_type": "code",
   "execution_count": null,
   "metadata": {},
   "outputs": [],
   "source": []
  }
 ],
 "metadata": {
  "kernelspec": {
   "display_name": "Python 3",
   "language": "python",
   "name": "python3"
  },
  "language_info": {
   "codemirror_mode": {
    "name": "ipython",
    "version": 3
   },
   "file_extension": ".py",
   "mimetype": "text/x-python",
   "name": "python",
   "nbconvert_exporter": "python",
   "pygments_lexer": "ipython3",
   "version": "3.7.6"
  }
 },
 "nbformat": 4,
 "nbformat_minor": 4
}
